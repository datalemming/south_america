{
 "cells": [
  {
   "cell_type": "markdown",
   "metadata": {},
   "source": [
    "# Example NLP analysis MUC3 documents\n",
    "\n",
    "This notebook displays various information extracted from a given document in the MUC3 dataset.\n",
    "## Aim\n",
    "\n",
    "To make it easier for analysts to extract core meaning from raw inputs"
   ]
  },
  {
   "cell_type": "code",
   "execution_count": null,
   "metadata": {},
   "outputs": [],
   "source": [
    "import sqlite3\n",
    "import pandas as pd\n",
    "conn=sqlite3.connect(\"c:/south_america/south_america.db\")\n",
    "c=conn.cursor()\n",
    "from IPython.core.display import display, HTML, Image"
   ]
  },
  {
   "cell_type": "code",
   "execution_count": null,
   "metadata": {},
   "outputs": [],
   "source": [
    "Image(\"c:/south_america/flow.png\")"
   ]
  },
  {
   "cell_type": "code",
   "execution_count": null,
   "metadata": {},
   "outputs": [],
   "source": [
    "#fill document id in here\n",
    "docid='DEV-MUC3-0001'"
   ]
  },
  {
   "cell_type": "code",
   "execution_count": null,
   "metadata": {},
   "outputs": [],
   "source": [
    "#gather NLP analysis results\n",
    "sterms=\"SELECT term FROM terms WHERE logid='\"+docid+\"';\"\n",
    "c.execute(sterms)\n",
    "terms=c.fetchall()\n",
    "ssvo=\"SELECT svo FROM svos WHERE logid='\"+docid+\"';\"\n",
    "c.execute(ssvo)\n",
    "svos=c.fetchall()\n",
    "ss=\"SELECT stmnt FROM statements WHERE logid='\"+docid+\"';\"\n",
    "c.execute(ss)\n",
    "statements=c.fetchall()"
   ]
  },
  {
   "cell_type": "code",
   "execution_count": null,
   "metadata": {},
   "outputs": [],
   "source": [
    "display(HTML('<h2>Terms</h2>'))\n",
    "for t in set(terms):\n",
    "    print(t)"
   ]
  },
  {
   "cell_type": "code",
   "execution_count": null,
   "metadata": {},
   "outputs": [],
   "source": [
    "display(HTML('<h2>Statements</h2>'))\n",
    "display(HTML('<p>Key terms (10 per log) were extracted by the SG Rankmethod.  Each of these key terms was fed into a function to extract semi-structured statements of the form(entity, cue, fragment)'))\n",
    "for s in set(statements):\n",
    "    print(s)"
   ]
  },
  {
   "cell_type": "code",
   "execution_count": null,
   "metadata": {},
   "outputs": [],
   "source": [
    "display(HTML('<h2>Triples</h2>'))\n",
    "for s in set(svos):\n",
    "    print(s)"
   ]
  }
 ],
 "metadata": {
  "kernelspec": {
   "display_name": "Python 3",
   "language": "python",
   "name": "python3"
  },
  "language_info": {
   "codemirror_mode": {
    "name": "ipython",
    "version": 3
   },
   "file_extension": ".py",
   "mimetype": "text/x-python",
   "name": "python",
   "nbconvert_exporter": "python",
   "pygments_lexer": "ipython3",
   "version": "3.7.1"
  }
 },
 "nbformat": 4,
 "nbformat_minor": 2
}
